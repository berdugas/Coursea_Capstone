{
  "nbformat": 4,
  "nbformat_minor": 0,
  "metadata": {
    "colab": {
      "name": "ibm_capstone.ipynb",
      "provenance": [],
      "authorship_tag": "ABX9TyMChe+EHt4kv6cBhnf+KQB2",
      "include_colab_link": true
    },
    "kernelspec": {
      "name": "python3",
      "display_name": "Python 3"
    },
    "language_info": {
      "name": "python"
    }
  },
  "cells": [
    {
      "cell_type": "markdown",
      "metadata": {
        "id": "view-in-github",
        "colab_type": "text"
      },
      "source": [
        "<a href=\"https://colab.research.google.com/github/berdugas/Coursea_Capstone/blob/main/ibm_capstone.ipynb\" target=\"_parent\"><img src=\"https://colab.research.google.com/assets/colab-badge.svg\" alt=\"Open In Colab\"/></a>"
      ]
    },
    {
      "cell_type": "markdown",
      "metadata": {
        "id": "ZJcY2p_As6sB"
      },
      "source": [
        "**This notebook is for the IBM Data Science Cetificate Course Capstone project.**"
      ]
    },
    {
      "cell_type": "code",
      "metadata": {
        "id": "qeSlF5Sjs05A"
      },
      "source": [
        "import pandas as pd\n",
        "import numpy as np"
      ],
      "execution_count": 3,
      "outputs": []
    },
    {
      "cell_type": "code",
      "metadata": {
        "id": "Tio7pftDtQ6W"
      },
      "source": [
        "# print\n",
        "\n",
        "print('Hello Capstone Project Course!')"
      ],
      "execution_count": null,
      "outputs": []
    }
  ]
}