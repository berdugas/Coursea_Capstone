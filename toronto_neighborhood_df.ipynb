{
  "nbformat": 4,
  "nbformat_minor": 0,
  "metadata": {
    "colab": {
      "name": "toronto_neighborhood_df.ipynb",
      "provenance": [],
      "toc_visible": true,
      "authorship_tag": "ABX9TyPpnmMzNtCqcOeWY8lmd6U0",
      "include_colab_link": true
    },
    "kernelspec": {
      "name": "python3",
      "display_name": "Python 3"
    },
    "language_info": {
      "name": "python"
    }
  },
  "cells": [
    {
      "cell_type": "markdown",
      "metadata": {
        "id": "view-in-github",
        "colab_type": "text"
      },
      "source": [
        "<a href=\"https://colab.research.google.com/github/berdugas/Coursea_Capstone/blob/main/toronto_neighborhood_df.ipynb\" target=\"_parent\"><img src=\"https://colab.research.google.com/assets/colab-badge.svg\" alt=\"Open In Colab\"/></a>"
      ]
    },
    {
      "cell_type": "markdown",
      "metadata": {
        "id": "lEMZvI_IUgLq"
      },
      "source": [
        "# Webscraping Toronto Neighborhoods to create the Dataframe"
      ]
    },
    {
      "cell_type": "code",
      "metadata": {
        "colab": {
          "base_uri": "https://localhost:8080/"
        },
        "id": "W8_4zIlkUbiM",
        "outputId": "369727b4-734c-4597-ec38-fd118ac7e117"
      },
      "source": [
        "!pip install bs4"
      ],
      "execution_count": 1,
      "outputs": [
        {
          "output_type": "stream",
          "text": [
            "Requirement already satisfied: bs4 in /usr/local/lib/python3.7/dist-packages (0.0.1)\n",
            "Requirement already satisfied: beautifulsoup4 in /usr/local/lib/python3.7/dist-packages (from bs4) (4.6.3)\n"
          ],
          "name": "stdout"
        }
      ]
    },
    {
      "cell_type": "markdown",
      "metadata": {
        "id": "hJoIdj8b3Fmw"
      },
      "source": [
        "## 1. Importing the required Libraries"
      ]
    },
    {
      "cell_type": "code",
      "metadata": {
        "id": "gKYplzxXU9HP"
      },
      "source": [
        "import pandas as pd\n",
        "import requests\n",
        "import pandas as pd\n",
        "import re\n",
        "from bs4 import BeautifulSoup"
      ],
      "execution_count": 6,
      "outputs": []
    },
    {
      "cell_type": "markdown",
      "metadata": {
        "id": "-Zawmgui3NEn"
      },
      "source": [
        "## 2. Using Beuatiful Soup to Scrape the Data from Wikipedia"
      ]
    },
    {
      "cell_type": "code",
      "metadata": {
        "id": "PL-XOqWtU_O4"
      },
      "source": [
        "url = 'https://en.wikipedia.org/wiki/List_of_postal_codes_of_Canada:_M'\n",
        "page = requests.get(url)\n",
        "soup = BeautifulSoup(page.content, 'html.parser')"
      ],
      "execution_count": 155,
      "outputs": []
    },
    {
      "cell_type": "code",
      "metadata": {
        "id": "yU8BoxOxXKfw"
      },
      "source": [
        "table = soup.find_all('table')\n",
        "rows = table[0].find_all('p')\n",
        "rows"
      ],
      "execution_count": null,
      "outputs": []
    },
    {
      "cell_type": "markdown",
      "metadata": {
        "id": "386oeFuj3iBG"
      },
      "source": [
        "Extracting the Values from each Row into a List"
      ]
    },
    {
      "cell_type": "code",
      "metadata": {
        "id": "kZegTq1MjGtk"
      },
      "source": [
        "data = []\n",
        "for i in rows:\n",
        "  x = i.text\n",
        "  if re.search(\"Not assigned\", x):\n",
        "    pass\n",
        "  else:\n",
        "    print(x)\n",
        "    y = x.split(\"(\")[0]\n",
        "    z = x.split(\"(\")[1]\n",
        "    z = z.replace(\")\", \"\")\n",
        "    a = y[:3]\n",
        "    b = y[3:]\n",
        "    w = z.split(\"/\")\n",
        "    neighborhood = []\n",
        "    for place in w:\n",
        "      c = place.strip()\n",
        "      neighborhood.append(c)\n",
        "    c = str(neighborhood)\n",
        "    c = c.replace('[', \"\")\n",
        "    c = c.replace(']', \"\")\n",
        "    c = c.replace('\\'', \"\")\n",
        "    print(c)\n",
        "    row = (a, b, c)\n",
        "    print(row)\n",
        "    data.append(row)\n",
        "\n"
      ],
      "execution_count": null,
      "outputs": []
    },
    {
      "cell_type": "markdown",
      "metadata": {
        "id": "e2t0Sflj3nXP"
      },
      "source": [
        "Loading List into a Dataframe with Required Columns"
      ]
    },
    {
      "cell_type": "code",
      "metadata": {
        "id": "Jv_wQDEEu3LB"
      },
      "source": [
        "df = pd.DataFrame(data, columns=['Postal Code', 'Borough', 'Neighborhood'])"
      ],
      "execution_count": 176,
      "outputs": []
    },
    {
      "cell_type": "markdown",
      "metadata": {
        "id": "gKmK1HhZ3soH"
      },
      "source": [
        "## 3. Resulting Dataframe"
      ]
    },
    {
      "cell_type": "code",
      "metadata": {
        "colab": {
          "base_uri": "https://localhost:8080/",
          "height": 655
        },
        "id": "6FNT2dzkrQ3W",
        "outputId": "cd810b2f-dea6-42cf-d895-5602c71a6f2b"
      },
      "source": [
        "df.head(20)"
      ],
      "execution_count": 178,
      "outputs": [
        {
          "output_type": "execute_result",
          "data": {
            "text/html": [
              "<div>\n",
              "<style scoped>\n",
              "    .dataframe tbody tr th:only-of-type {\n",
              "        vertical-align: middle;\n",
              "    }\n",
              "\n",
              "    .dataframe tbody tr th {\n",
              "        vertical-align: top;\n",
              "    }\n",
              "\n",
              "    .dataframe thead th {\n",
              "        text-align: right;\n",
              "    }\n",
              "</style>\n",
              "<table border=\"1\" class=\"dataframe\">\n",
              "  <thead>\n",
              "    <tr style=\"text-align: right;\">\n",
              "      <th></th>\n",
              "      <th>Postal Code</th>\n",
              "      <th>Borough</th>\n",
              "      <th>Neighborhood</th>\n",
              "    </tr>\n",
              "  </thead>\n",
              "  <tbody>\n",
              "    <tr>\n",
              "      <th>0</th>\n",
              "      <td>M3A</td>\n",
              "      <td>North York</td>\n",
              "      <td>Parkwoods</td>\n",
              "    </tr>\n",
              "    <tr>\n",
              "      <th>1</th>\n",
              "      <td>M4A</td>\n",
              "      <td>North York</td>\n",
              "      <td>Victoria Village</td>\n",
              "    </tr>\n",
              "    <tr>\n",
              "      <th>2</th>\n",
              "      <td>M5A</td>\n",
              "      <td>Downtown Toronto</td>\n",
              "      <td>Regent Park, Harbourfront</td>\n",
              "    </tr>\n",
              "    <tr>\n",
              "      <th>3</th>\n",
              "      <td>M6A</td>\n",
              "      <td>North York</td>\n",
              "      <td>Lawrence Manor, Lawrence Heights</td>\n",
              "    </tr>\n",
              "    <tr>\n",
              "      <th>4</th>\n",
              "      <td>M7A</td>\n",
              "      <td>Queen's Park</td>\n",
              "      <td>Ontario Provincial Government</td>\n",
              "    </tr>\n",
              "    <tr>\n",
              "      <th>5</th>\n",
              "      <td>M9A</td>\n",
              "      <td>Etobicoke</td>\n",
              "      <td>Islington Avenue</td>\n",
              "    </tr>\n",
              "    <tr>\n",
              "      <th>6</th>\n",
              "      <td>M1B</td>\n",
              "      <td>Scarborough</td>\n",
              "      <td>Malvern, Rouge</td>\n",
              "    </tr>\n",
              "    <tr>\n",
              "      <th>7</th>\n",
              "      <td>M3B</td>\n",
              "      <td>North York</td>\n",
              "      <td>Don MillsNorth</td>\n",
              "    </tr>\n",
              "    <tr>\n",
              "      <th>8</th>\n",
              "      <td>M4B</td>\n",
              "      <td>East York</td>\n",
              "      <td>Parkview Hill, Woodbine Gardens</td>\n",
              "    </tr>\n",
              "    <tr>\n",
              "      <th>9</th>\n",
              "      <td>M5B</td>\n",
              "      <td>Downtown Toronto</td>\n",
              "      <td>Garden District, Ryerson</td>\n",
              "    </tr>\n",
              "    <tr>\n",
              "      <th>10</th>\n",
              "      <td>M6B</td>\n",
              "      <td>North York</td>\n",
              "      <td>Glencairn</td>\n",
              "    </tr>\n",
              "    <tr>\n",
              "      <th>11</th>\n",
              "      <td>M9B</td>\n",
              "      <td>Etobicoke</td>\n",
              "      <td>West Deane Park, Princess Gardens, Martin Grov...</td>\n",
              "    </tr>\n",
              "    <tr>\n",
              "      <th>12</th>\n",
              "      <td>M1C</td>\n",
              "      <td>Scarborough</td>\n",
              "      <td>Rouge Hill, Port Union, Highland Creek</td>\n",
              "    </tr>\n",
              "    <tr>\n",
              "      <th>13</th>\n",
              "      <td>M3C</td>\n",
              "      <td>North York</td>\n",
              "      <td>Don MillsSouth</td>\n",
              "    </tr>\n",
              "    <tr>\n",
              "      <th>14</th>\n",
              "      <td>M4C</td>\n",
              "      <td>East York</td>\n",
              "      <td>Woodbine Heights</td>\n",
              "    </tr>\n",
              "    <tr>\n",
              "      <th>15</th>\n",
              "      <td>M5C</td>\n",
              "      <td>Downtown Toronto</td>\n",
              "      <td>St. James Town</td>\n",
              "    </tr>\n",
              "    <tr>\n",
              "      <th>16</th>\n",
              "      <td>M6C</td>\n",
              "      <td>York</td>\n",
              "      <td>Humewood-Cedarvale</td>\n",
              "    </tr>\n",
              "    <tr>\n",
              "      <th>17</th>\n",
              "      <td>M9C</td>\n",
              "      <td>Etobicoke</td>\n",
              "      <td>Eringate, Bloordale Gardens, Old Burnhamthorpe...</td>\n",
              "    </tr>\n",
              "    <tr>\n",
              "      <th>18</th>\n",
              "      <td>M1E</td>\n",
              "      <td>Scarborough</td>\n",
              "      <td>Guildwood, Morningside, West Hill</td>\n",
              "    </tr>\n",
              "    <tr>\n",
              "      <th>19</th>\n",
              "      <td>M4E</td>\n",
              "      <td>East Toronto</td>\n",
              "      <td>The Beaches</td>\n",
              "    </tr>\n",
              "  </tbody>\n",
              "</table>\n",
              "</div>"
            ],
            "text/plain": [
              "   Postal Code  ...                                       Neighborhood\n",
              "0          M3A  ...                                          Parkwoods\n",
              "1          M4A  ...                                   Victoria Village\n",
              "2          M5A  ...                          Regent Park, Harbourfront\n",
              "3          M6A  ...                   Lawrence Manor, Lawrence Heights\n",
              "4          M7A  ...                      Ontario Provincial Government\n",
              "5          M9A  ...                                   Islington Avenue\n",
              "6          M1B  ...                                     Malvern, Rouge\n",
              "7          M3B  ...                                     Don MillsNorth\n",
              "8          M4B  ...                    Parkview Hill, Woodbine Gardens\n",
              "9          M5B  ...                           Garden District, Ryerson\n",
              "10         M6B  ...                                          Glencairn\n",
              "11         M9B  ...  West Deane Park, Princess Gardens, Martin Grov...\n",
              "12         M1C  ...             Rouge Hill, Port Union, Highland Creek\n",
              "13         M3C  ...                                     Don MillsSouth\n",
              "14         M4C  ...                                   Woodbine Heights\n",
              "15         M5C  ...                                     St. James Town\n",
              "16         M6C  ...                                 Humewood-Cedarvale\n",
              "17         M9C  ...  Eringate, Bloordale Gardens, Old Burnhamthorpe...\n",
              "18         M1E  ...                  Guildwood, Morningside, West Hill\n",
              "19         M4E  ...                                        The Beaches\n",
              "\n",
              "[20 rows x 3 columns]"
            ]
          },
          "metadata": {
            "tags": []
          },
          "execution_count": 178
        }
      ]
    },
    {
      "cell_type": "markdown",
      "metadata": {
        "id": "ZapCd9jM39Oy"
      },
      "source": [
        "Saving the Data into a CSV file"
      ]
    },
    {
      "cell_type": "code",
      "metadata": {
        "id": "RGAspzjx4Axf"
      },
      "source": [
        "df.to_csv('toronto.csv')"
      ],
      "execution_count": 179,
      "outputs": []
    }
  ]
}